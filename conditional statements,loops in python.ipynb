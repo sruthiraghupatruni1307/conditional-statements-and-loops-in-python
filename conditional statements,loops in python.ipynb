{
 "cells": [
  {
   "cell_type": "markdown",
   "id": "6dc225c7",
   "metadata": {},
   "source": [
    "# conditional statements\n",
    "\n",
    "- if\n",
    "- if else\n",
    "- if-elif-else\n",
    "\n",
    "# loops\n",
    "\n",
    "- for\n",
    "- while\n",
    "\n",
    "# strings\n",
    "\n",
    "- declaring a string\n",
    "- accsessing elements from the string\n",
    "- string methods"
   ]
  },
  {
   "cell_type": "markdown",
   "id": "f0957f4b",
   "metadata": {},
   "source": [
    "## conditional statements\n",
    "\n",
    "- controlling the flow of execution\n",
    "\n",
    "### syntax\n",
    "```python\n",
    "if condition:\n",
    "    block of code\n",
    "```\n",
    "\n",
    "```python\n",
    "if condition:\n",
    "    block of code\n",
    "else:\n",
    "    block of code\n",
    "```\n",
    "\n",
    "```python\n",
    "if conditon:\n",
    "    block of code\n",
    "elif condition:\n",
    "    block of code\n",
    "else:\n",
    "    block of code\n",
    "```"
   ]
  },
  {
   "cell_type": "code",
   "execution_count": 9,
   "id": "d5e7bf71",
   "metadata": {},
   "outputs": [
    {
     "name": "stdout",
     "output_type": "stream",
     "text": [
      "15 is large\n"
     ]
    }
   ],
   "source": [
    "a=5\n",
    "b=15\n",
    "if a>b:\n",
    "    print(a,\"is large\")\n",
    "else:\n",
    "    print(b,\"is large\")"
   ]
  },
  {
   "cell_type": "markdown",
   "id": "d4423d85",
   "metadata": {},
   "source": [
    "- biggest of 3 numbers"
   ]
  },
  {
   "cell_type": "code",
   "execution_count": 10,
   "id": "d0e1c42c",
   "metadata": {},
   "outputs": [
    {
     "name": "stdout",
     "output_type": "stream",
     "text": [
      "15 is large\n"
     ]
    }
   ],
   "source": [
    "a=5\n",
    "b=15\n",
    "c=8\n",
    "if a>b and a>c:\n",
    "    print(a,\"is large\")\n",
    "elif b>c:\n",
    "    print(b,\"is large\")\n",
    "else:\n",
    "    print(c,\"is large\")"
   ]
  },
  {
   "cell_type": "markdown",
   "id": "ef68d1f2",
   "metadata": {},
   "source": [
    "- check whether the input is even or not"
   ]
  },
  {
   "cell_type": "code",
   "execution_count": 11,
   "id": "9e49dc0d",
   "metadata": {},
   "outputs": [
    {
     "name": "stdout",
     "output_type": "stream",
     "text": [
      "enter a number: 497626826\n",
      "497626826 is even\n"
     ]
    }
   ],
   "source": [
    "n=int(input(\"enter a number: \"))\n",
    "if n%2==0:\n",
    "    print(n,\"is even\")\n",
    "else:\n",
    "    print(n,\"is not even\")"
   ]
  },
  {
   "cell_type": "markdown",
   "id": "8f6ef9af",
   "metadata": {},
   "source": [
    "- verify leap year or not"
   ]
  },
  {
   "cell_type": "code",
   "execution_count": 13,
   "id": "ad213509",
   "metadata": {},
   "outputs": [
    {
     "name": "stdout",
     "output_type": "stream",
     "text": [
      "enter a number: 2021\n",
      "2021 is not leap year\n"
     ]
    }
   ],
   "source": [
    "n=int(input(\"enter a number: \"))\n",
    "if n%4==0:\n",
    "    print(n,\"is leap year\")\n",
    "else:\n",
    "    print(n,\"is not leap year\")"
   ]
  },
  {
   "cell_type": "code",
   "execution_count": 17,
   "id": "fe812e28",
   "metadata": {},
   "outputs": [
    {
     "name": "stdout",
     "output_type": "stream",
     "text": [
      "enter a number: 2021\n",
      "2021 is not leap year\n"
     ]
    }
   ],
   "source": [
    "n=int(input(\"enter a number: \"))\n",
    "if n%4==0|n%400==0&n%100!=0:\n",
    "    print(n,\"is leap year\")\n",
    "else:\n",
    "    print(n,\"is not leap year\")"
   ]
  },
  {
   "cell_type": "markdown",
   "id": "94ebacd8",
   "metadata": {},
   "source": [
    "**calculator application**\n",
    "- 2 input nmber\n",
    "- arithmetic operation"
   ]
  },
  {
   "cell_type": "code",
   "execution_count": 63,
   "id": "c65adfaf",
   "metadata": {},
   "outputs": [
    {
     "name": "stdout",
     "output_type": "stream",
     "text": [
      "enter number:50\n",
      "enter number:30\n",
      "what arithmetic i need to perform:+\n",
      "80\n"
     ]
    }
   ],
   "source": [
    "a=int(input(\"enter number:\"))\n",
    "b=int(input(\"enter number:\"))\n",
    "arthe=input(\"what arithmetic i need to perform:\")\n",
    "if arthe=='+':\n",
    "    print(a+b)\n",
    "elif arthe=='-':\n",
    "    print(a-b)\n",
    "elif arthe=='*':\n",
    "    print(a*b)\n",
    "else:\n",
    "    print(\"Given arithmetic operation is invalid\")"
   ]
  },
  {
   "cell_type": "markdown",
   "id": "d0e9483b",
   "metadata": {},
   "source": [
    "## loops"
   ]
  },
  {
   "cell_type": "markdown",
   "id": "6eab55ea",
   "metadata": {},
   "source": [
    "### syntax\n",
    "- for loop\n",
    "```python\n",
    "for iterativevariable in groupofdata:\n",
    "    block of code\n",
    "```\n",
    "\n",
    "- while loop -> based on the condition\n",
    "```python\n",
    "init\n",
    "while condition:\n",
    "    block of code\n",
    "    inc/dec\n",
    "```"
   ]
  },
  {
   "cell_type": "markdown",
   "id": "580ecc5b",
   "metadata": {},
   "source": [
    "### GroupOfNumbers\n",
    "\n",
    "range(init,cond,inc/dec)\n",
    "range(start,stop,step)\n",
    "\n",
    "cond -> required arg\n",
    "init -> 0\n",
    "inc/dec -> +1/-1 "
   ]
  },
  {
   "cell_type": "markdown",
   "id": "dfffbfb8",
   "metadata": {},
   "source": [
    "- display 1 to 100 numbers"
   ]
  },
  {
   "cell_type": "code",
   "execution_count": 20,
   "id": "a01b768e",
   "metadata": {},
   "outputs": [
    {
     "name": "stdout",
     "output_type": "stream",
     "text": [
      "1\t2\t3\t4\t5\t6\t7\t8\t9\t10\t11\t12\t13\t14\t15\t16\t17\t18\t19\t20\t21\t22\t23\t24\t25\t26\t27\t28\t29\t30\t31\t32\t33\t34\t35\t36\t37\t38\t39\t40\t41\t42\t43\t44\t45\t46\t47\t48\t49\t50\t51\t52\t53\t54\t55\t56\t57\t58\t59\t60\t61\t62\t63\t64\t65\t66\t67\t68\t69\t70\t71\t72\t73\t74\t75\t76\t77\t78\t79\t80\t81\t82\t83\t84\t85\t86\t87\t88\t89\t90\t91\t92\t93\t94\t95\t96\t97\t98\t99\t100\t"
     ]
    }
   ],
   "source": [
    "for i in range(1,101,1):\n",
    "    print(i,end='\\t')"
   ]
  },
  {
   "cell_type": "code",
   "execution_count": 21,
   "id": "570bd37c",
   "metadata": {},
   "outputs": [
    {
     "name": "stdout",
     "output_type": "stream",
     "text": [
      "1\t2\t3\t4\t5\t6\t7\t8\t9\t10\t11\t12\t13\t14\t15\t16\t17\t18\t19\t20\t21\t22\t23\t24\t25\t26\t27\t28\t29\t30\t31\t32\t33\t34\t35\t36\t37\t38\t39\t40\t41\t42\t43\t44\t45\t46\t47\t48\t49\t50\t51\t52\t53\t54\t55\t56\t57\t58\t59\t60\t61\t62\t63\t64\t65\t66\t67\t68\t69\t70\t71\t72\t73\t74\t75\t76\t77\t78\t79\t80\t81\t82\t83\t84\t85\t86\t87\t88\t89\t90\t91\t92\t93\t94\t95\t96\t97\t98\t99\t100\t"
     ]
    }
   ],
   "source": [
    "for i in range(1,101):\n",
    "    print(i,end='\\t')"
   ]
  },
  {
   "cell_type": "code",
   "execution_count": 22,
   "id": "f487da68",
   "metadata": {},
   "outputs": [
    {
     "name": "stdout",
     "output_type": "stream",
     "text": [
      "0\t1\t2\t3\t4\t5\t6\t7\t8\t9\t10\t11\t12\t13\t14\t15\t16\t17\t18\t19\t20\t21\t22\t23\t24\t25\t26\t27\t28\t29\t30\t31\t32\t33\t34\t35\t36\t37\t38\t39\t40\t41\t42\t43\t44\t45\t46\t47\t48\t49\t50\t51\t52\t53\t54\t55\t56\t57\t58\t59\t60\t61\t62\t63\t64\t65\t66\t67\t68\t69\t70\t71\t72\t73\t74\t75\t76\t77\t78\t79\t80\t81\t82\t83\t84\t85\t86\t87\t88\t89\t90\t91\t92\t93\t94\t95\t96\t97\t98\t99\t100\t"
     ]
    }
   ],
   "source": [
    "for i in range(101):\n",
    "    print(i,end='\\t')"
   ]
  },
  {
   "cell_type": "code",
   "execution_count": 23,
   "id": "39c4ece0",
   "metadata": {},
   "outputs": [
    {
     "name": "stdout",
     "output_type": "stream",
     "text": [
      "1\t3\t5\t7\t9\t11\t13\t15\t17\t19\t21\t23\t25\t27\t29\t31\t33\t35\t37\t39\t41\t43\t45\t47\t49\t51\t53\t55\t57\t59\t61\t63\t65\t67\t69\t71\t73\t75\t77\t79\t81\t83\t85\t87\t89\t91\t93\t95\t97\t99\t"
     ]
    }
   ],
   "source": [
    "for i in range(1,101,2):\n",
    "    print(i,end='\\t')"
   ]
  },
  {
   "cell_type": "markdown",
   "id": "52b02f96",
   "metadata": {},
   "source": [
    "- even numbers between 1 to 1000"
   ]
  },
  {
   "cell_type": "code",
   "execution_count": 26,
   "id": "0a101848",
   "metadata": {},
   "outputs": [
    {
     "name": "stdout",
     "output_type": "stream",
     "text": [
      "1\t5\t9\t13\t17\t21\t25\t29\t33\t37\t41\t45\t49\t53\t57\t61\t65\t69\t73\t77\t81\t85\t89\t93\t97\t"
     ]
    }
   ],
   "source": [
    "for i in range(1,101,4):\n",
    "    print(i,end='\\t')"
   ]
  },
  {
   "cell_type": "code",
   "execution_count": 27,
   "id": "610b2795",
   "metadata": {},
   "outputs": [
    {
     "name": "stdout",
     "output_type": "stream",
     "text": [
      "2\t4\t6\t8\t10\t12\t14\t16\t18\t20\t22\t24\t26\t28\t30\t32\t34\t36\t38\t40\t42\t44\t46\t48\t50\t52\t54\t56\t58\t60\t62\t64\t66\t68\t70\t72\t74\t76\t78\t80\t82\t84\t86\t88\t90\t92\t94\t96\t98\t100\t102\t104\t106\t108\t110\t112\t114\t116\t118\t120\t122\t124\t126\t128\t130\t132\t134\t136\t138\t140\t142\t144\t146\t148\t150\t152\t154\t156\t158\t160\t162\t164\t166\t168\t170\t172\t174\t176\t178\t180\t182\t184\t186\t188\t190\t192\t194\t196\t198\t200\t202\t204\t206\t208\t210\t212\t214\t216\t218\t220\t222\t224\t226\t228\t230\t232\t234\t236\t238\t240\t242\t244\t246\t248\t250\t252\t254\t256\t258\t260\t262\t264\t266\t268\t270\t272\t274\t276\t278\t280\t282\t284\t286\t288\t290\t292\t294\t296\t298\t300\t302\t304\t306\t308\t310\t312\t314\t316\t318\t320\t322\t324\t326\t328\t330\t332\t334\t336\t338\t340\t342\t344\t346\t348\t350\t352\t354\t356\t358\t360\t362\t364\t366\t368\t370\t372\t374\t376\t378\t380\t382\t384\t386\t388\t390\t392\t394\t396\t398\t400\t402\t404\t406\t408\t410\t412\t414\t416\t418\t420\t422\t424\t426\t428\t430\t432\t434\t436\t438\t440\t442\t444\t446\t448\t450\t452\t454\t456\t458\t460\t462\t464\t466\t468\t470\t472\t474\t476\t478\t480\t482\t484\t486\t488\t490\t492\t494\t496\t498\t500\t502\t504\t506\t508\t510\t512\t514\t516\t518\t520\t522\t524\t526\t528\t530\t532\t534\t536\t538\t540\t542\t544\t546\t548\t550\t552\t554\t556\t558\t560\t562\t564\t566\t568\t570\t572\t574\t576\t578\t580\t582\t584\t586\t588\t590\t592\t594\t596\t598\t600\t602\t604\t606\t608\t610\t612\t614\t616\t618\t620\t622\t624\t626\t628\t630\t632\t634\t636\t638\t640\t642\t644\t646\t648\t650\t652\t654\t656\t658\t660\t662\t664\t666\t668\t670\t672\t674\t676\t678\t680\t682\t684\t686\t688\t690\t692\t694\t696\t698\t700\t702\t704\t706\t708\t710\t712\t714\t716\t718\t720\t722\t724\t726\t728\t730\t732\t734\t736\t738\t740\t742\t744\t746\t748\t750\t752\t754\t756\t758\t760\t762\t764\t766\t768\t770\t772\t774\t776\t778\t780\t782\t784\t786\t788\t790\t792\t794\t796\t798\t800\t802\t804\t806\t808\t810\t812\t814\t816\t818\t820\t822\t824\t826\t828\t830\t832\t834\t836\t838\t840\t842\t844\t846\t848\t850\t852\t854\t856\t858\t860\t862\t864\t866\t868\t870\t872\t874\t876\t878\t880\t882\t884\t886\t888\t890\t892\t894\t896\t898\t900\t902\t904\t906\t908\t910\t912\t914\t916\t918\t920\t922\t924\t926\t928\t930\t932\t934\t936\t938\t940\t942\t944\t946\t948\t950\t952\t954\t956\t958\t960\t962\t964\t966\t968\t970\t972\t974\t976\t978\t980\t982\t984\t986\t988\t990\t992\t994\t996\t998\t1000\t"
     ]
    }
   ],
   "source": [
    "for i in range(1,1001,1):\n",
    "    if i%2==0:\n",
    "        print(i,end='\\t')"
   ]
  },
  {
   "cell_type": "markdown",
   "id": "d706607f",
   "metadata": {},
   "source": [
    "## while loop"
   ]
  },
  {
   "cell_type": "code",
   "execution_count": 28,
   "id": "cd4b687e",
   "metadata": {},
   "outputs": [
    {
     "name": "stdout",
     "output_type": "stream",
     "text": [
      "1\t2\t3\t4\t5\t6\t7\t8\t9\t10\t11\t12\t13\t14\t15\t16\t17\t18\t19\t20\t21\t22\t23\t24\t25\t26\t27\t28\t29\t30\t31\t32\t33\t34\t35\t36\t37\t38\t39\t40\t41\t42\t43\t44\t45\t46\t47\t48\t49\t50\t51\t52\t53\t54\t55\t56\t57\t58\t59\t60\t61\t62\t63\t64\t65\t66\t67\t68\t69\t70\t71\t72\t73\t74\t75\t76\t77\t78\t79\t80\t81\t82\t83\t84\t85\t86\t87\t88\t89\t90\t91\t92\t93\t94\t95\t96\t97\t98\t99\t100\t"
     ]
    }
   ],
   "source": [
    "i=1\n",
    "while i<101:\n",
    "    print(i,end='\\t')\n",
    "    i+=1"
   ]
  },
  {
   "cell_type": "markdown",
   "id": "b29d9aec",
   "metadata": {},
   "source": [
    "- break:to terminate the execution of the loop\n",
    "- continue:skip the current execution of the loop"
   ]
  },
  {
   "cell_type": "markdown",
   "id": "04b52edf",
   "metadata": {},
   "source": [
    "print the numbers between 1 to 100 whenevr i reached 50 stop travelling "
   ]
  },
  {
   "cell_type": "code",
   "execution_count": 29,
   "id": "983ca9a1",
   "metadata": {},
   "outputs": [
    {
     "name": "stdout",
     "output_type": "stream",
     "text": [
      "1\t2\t3\t4\t5\t6\t7\t8\t9\t10\t11\t12\t13\t14\t15\t16\t17\t18\t19\t20\t21\t22\t23\t24\t25\t26\t27\t28\t29\t30\t31\t32\t33\t34\t35\t36\t37\t38\t39\t40\t41\t42\t43\t44\t45\t46\t47\t48\t49\t"
     ]
    }
   ],
   "source": [
    "for travel in range(1,101,1):\n",
    "    if travel==50:\n",
    "        break\n",
    "    print(travel,end='\\t')"
   ]
  },
  {
   "cell_type": "code",
   "execution_count": 34,
   "id": "77d06ffd",
   "metadata": {},
   "outputs": [
    {
     "name": "stdout",
     "output_type": "stream",
     "text": [
      "1\t3\t5\t7\t9\t11\t13\t15\t17\t19\t21\t23\t25\t27\t29\t31\t33\t35\t37\t39\t41\t43\t45\t47\t49\t"
     ]
    }
   ],
   "source": [
    "for travel in range(1,101,1):\n",
    "    if travel==50:\n",
    "        break\n",
    "    elif travel %2==0:\n",
    "        continue\n",
    "    print(travel,end='\\t')"
   ]
  },
  {
   "cell_type": "code",
   "execution_count": 35,
   "id": "79a62460",
   "metadata": {},
   "outputs": [
    {
     "name": "stdout",
     "output_type": "stream",
     "text": [
      "kdifhfh\n",
      "kdifhfh\n",
      "hiiehf\n",
      "hiiehf\n",
      "iwhf\n",
      "iwhf\n",
      "iwhfh\n",
      "iwhfh\n",
      "cancel\n",
      "loop terminated\n"
     ]
    }
   ],
   "source": [
    "while True:\n",
    "    inp=input()\n",
    "    if inp=='cancel':\n",
    "        print(\"loop terminated\")\n",
    "        break\n",
    "    print(inp)"
   ]
  },
  {
   "cell_type": "markdown",
   "id": "7c4c33ee",
   "metadata": {},
   "source": [
    "## strings\n",
    "\n",
    "It is group of data enclosed between \"\",'',\"\"\"\",'''' are called strings in python\n",
    "\n",
    "### properties\n",
    "\n",
    "- it is inmutable(once string is classified we cannot modify) data type\n",
    "- it is iterable"
   ]
  },
  {
   "cell_type": "code",
   "execution_count": 57,
   "id": "434677cc",
   "metadata": {},
   "outputs": [],
   "source": [
    "s='I am a single line string'\n",
    "s2=\"I am also a single line string\"\n",
    "s3='''i am\n",
    "a multi\n",
    "line string'''\n",
    "s4=\"\"\"i am\n",
    "a multi\n",
    "line string\"\"\"\n",
    "s5=123\n",
    "s6='This means that Jupyter is still running the Kernel. It is possible that you are running an infinite loop within the Kernel and that is why it cannot COMPLETE the execution.' "
   ]
  },
  {
   "cell_type": "code",
   "execution_count": 58,
   "id": "a9adc08a",
   "metadata": {},
   "outputs": [
    {
     "name": "stdout",
     "output_type": "stream",
     "text": [
      "<class 'str'> <class 'str'> <class 'int'>\n"
     ]
    }
   ],
   "source": [
    "print(type(s),type(s3),type(s5))"
   ]
  },
  {
   "cell_type": "code",
   "execution_count": 59,
   "id": "be736eac",
   "metadata": {},
   "outputs": [
    {
     "name": "stdout",
     "output_type": "stream",
     "text": [
      "i\t \ta\tm\t\n",
      "\ta\t \tm\tu\tl\tt\ti\t\n",
      "\tl\ti\tn\te\t \ts\tt\tr\ti\tn\tg\t"
     ]
    }
   ],
   "source": [
    "for char in s4:\n",
    "    print(char,end='\\t')"
   ]
  },
  {
   "cell_type": "code",
   "execution_count": 60,
   "id": "63413e5b",
   "metadata": {},
   "outputs": [
    {
     "name": "stdout",
     "output_type": "stream",
     "text": [
      "i\ta\ta\tu\ti\ti\te\ti\t"
     ]
    }
   ],
   "source": [
    "for char in s4:\n",
    "    if char=='a' or char=='e' or char=='i' or char=='o' or char=='u':\n",
    "        print(char,end='\\t')"
   ]
  },
  {
   "cell_type": "code",
   "execution_count": 61,
   "id": "63af6cdf",
   "metadata": {},
   "outputs": [
    {
     "name": "stdout",
     "output_type": "stream",
     "text": [
      "This means that Jupyter is still running the Kernel. It is possible that you are running an infinite loop within the Kernel and that is why it cannot COMPLETE the execution.\n"
     ]
    }
   ],
   "source": [
    "print(s6)"
   ]
  },
  {
   "cell_type": "code",
   "execution_count": 62,
   "id": "e49e5a39",
   "metadata": {},
   "outputs": [
    {
     "name": "stdout",
     "output_type": "stream",
     "text": [
      "4 upper 48 lower 121 constants\n"
     ]
    }
   ],
   "source": [
    "lo=0\n",
    "uo=0\n",
    "c=0\n",
    "for char in s6:\n",
    "    if char in'aeiou':\n",
    "        lo+=1\n",
    "    elif char in 'AEIOU':\n",
    "        uo+=1\n",
    "    else:\n",
    "        c+=1\n",
    "print(uo,\"upper\",lo,\"lower\",c,\"constants\")        "
   ]
  },
  {
   "cell_type": "markdown",
   "id": "c6c6461a",
   "metadata": {},
   "source": [
    "1. get the leap year between he given range\n",
    "   - starting range ending range is givwn as input\n"
   ]
  },
  {
   "cell_type": "code",
   "execution_count": 6,
   "id": "94e9e529",
   "metadata": {},
   "outputs": [
    {
     "name": "stdout",
     "output_type": "stream",
     "text": [
      "enter start year:2000\n",
      "enter end year:2100\n",
      "here is aa list of leap years between2000and2100:\n",
      "2000\n",
      "2004\n",
      "2008\n",
      "2012\n",
      "2016\n",
      "2020\n",
      "2024\n",
      "2028\n",
      "2032\n",
      "2036\n",
      "2040\n",
      "2044\n",
      "2048\n",
      "2052\n",
      "2056\n",
      "2060\n",
      "2064\n",
      "2068\n",
      "2072\n",
      "2076\n",
      "2080\n",
      "2084\n",
      "2088\n",
      "2092\n",
      "2096\n"
     ]
    }
   ],
   "source": [
    "start=int(input(\"enter start year:\"))\n",
    "end=int(input(\"enter end year:\"))\n",
    "if start<=end:\n",
    "    print(\"here is aa list of leap years between\"+str(start)+\"and\"+str(end)+\":\")\n",
    "    while start<end:\n",
    "        if start%4==0 and start%100!=0:\n",
    "            print(start)\n",
    "        if start%100==0 and start%400==0:\n",
    "            print(start)\n",
    "        start+=1\n"
   ]
  },
  {
   "cell_type": "markdown",
   "id": "b894bea0",
   "metadata": {},
   "source": [
    "2. get the prime numbers betwween the given range\n"
   ]
  },
  {
   "cell_type": "code",
   "execution_count": 10,
   "id": "9caea4b5",
   "metadata": {},
   "outputs": [
    {
     "name": "stdout",
     "output_type": "stream",
     "text": [
      "enter lower range:10\n",
      "enter upper range:50\n",
      "11\n",
      "13\n",
      "17\n",
      "19\n",
      "23\n",
      "29\n",
      "31\n",
      "37\n",
      "41\n",
      "43\n",
      "47\n"
     ]
    }
   ],
   "source": [
    "lower=int(input(\"enter lower range:\"))\n",
    "upper=int(input(\"enter upper range:\"))\n",
    "for num in range(lower,upper+1):\n",
    "    if num>1:\n",
    "        for i in range(2,num):\n",
    "            if(num%i)==0:\n",
    "                break\n",
    "        else:\n",
    "            print(num)"
   ]
  },
  {
   "cell_type": "markdown",
   "id": "1fcdbda1",
   "metadata": {},
   "source": [
    "3. get n number of fibonacci number"
   ]
  },
  {
   "cell_type": "code",
   "execution_count": 11,
   "id": "b36922c6",
   "metadata": {},
   "outputs": [
    {
     "name": "stdout",
     "output_type": "stream",
     "text": [
      "how many terms?9\n",
      "fibonacci sequence:\n",
      "0\n",
      "1\n",
      "1\n",
      "2\n",
      "3\n",
      "5\n",
      "8\n",
      "13\n",
      "21\n"
     ]
    }
   ],
   "source": [
    "nterms=int(input(\"how many terms?\"))\n",
    "n1,n2=0,1\n",
    "count=0\n",
    "if nterms<=0:\n",
    "    print(\"enter positive number\")\n",
    "elif nterms==1:\n",
    "    print(\"fibonaccisequence upto\",nterms,\":\")\n",
    "    print(n1)\n",
    "else:\n",
    "    print(\"fibonacci sequence:\")\n",
    "    while count<nterms:\n",
    "        print(n1)\n",
    "        nth=n1+n2\n",
    "        n1=n2\n",
    "        n2=nth\n",
    "        count+=1"
   ]
  },
  {
   "cell_type": "code",
   "execution_count": null,
   "id": "f2340a8c",
   "metadata": {},
   "outputs": [],
   "source": []
  }
 ],
 "metadata": {
  "kernelspec": {
   "display_name": "Python 3",
   "language": "python",
   "name": "python3"
  },
  "language_info": {
   "codemirror_mode": {
    "name": "ipython",
    "version": 3
   },
   "file_extension": ".py",
   "mimetype": "text/x-python",
   "name": "python",
   "nbconvert_exporter": "python",
   "pygments_lexer": "ipython3",
   "version": "3.8.8"
  }
 },
 "nbformat": 4,
 "nbformat_minor": 5
}
